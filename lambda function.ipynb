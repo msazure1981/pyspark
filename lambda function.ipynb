{
 "cells": [
  {
   "cell_type": "code",
   "execution_count": 0,
   "metadata": {
    "application/vnd.databricks.v1+cell": {
     "cellMetadata": {},
     "inputWidgets": {},
     "nuid": "53fb42dc-e7ff-4d88-ab0a-2c9fa02e6195",
     "showTitle": false,
     "title": ""
    }
   },
   "outputs": [],
   "source": [
    "# Syntax:\n",
    "#     lambda arg1,..arg-n: logic\n",
    "#     call function"
   ]
  },
  {
   "cell_type": "code",
   "execution_count": 0,
   "metadata": {
    "application/vnd.databricks.v1+cell": {
     "cellMetadata": {
      "byteLimit": 2048000,
      "rowLimit": 10000
     },
     "inputWidgets": {},
     "nuid": "f6d2d017-ce2a-4755-a321-472e536bf22f",
     "showTitle": false,
     "title": ""
    }
   },
   "outputs": [
    {
     "output_type": "stream",
     "name": "stdout",
     "output_type": "stream",
     "text": [
      "Out[5]: 3"
     ]
    }
   ],
   "source": [
    "f=lambda x,y:x+y\n",
    "f(1,2)"
   ]
  }
 ],
 "metadata": {
  "application/vnd.databricks.v1+notebook": {
   "dashboards": [],
   "language": "python",
   "notebookMetadata": {
    "pythonIndentUnit": 4
   },
   "notebookName": "lambda function",
   "widgets": {}
  }
 },
 "nbformat": 4,
 "nbformat_minor": 0
}
