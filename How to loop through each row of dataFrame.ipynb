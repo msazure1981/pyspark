{
 "cells": [
  {
   "cell_type": "code",
   "execution_count": 0,
   "metadata": {
    "application/vnd.databricks.v1+cell": {
     "cellMetadata": {
      "byteLimit": 2048000,
      "rowLimit": 10000
     },
     "inputWidgets": {},
     "nuid": "b40dd14b-c891-4a22-bd2e-bd743bf3a3ea",
     "showTitle": false,
     "title": ""
    }
   },
   "outputs": [],
   "source": [
    " input_data = [(1, \"Shivansh\", \"Data Scientist\", \"Noida\"),\n",
    "(2, \"Rishabh\", \"Software Developer\", \"Bangalore\"),\n",
    "(3, \"Swati\", \"Data Analyst\", \"Hyderabad\"),\n",
    "(4, \"Amar\", \"Data Analyst\", \"Noida\"),\n",
    "(5, \"Arpit\", \"Android Developer\", \"Pune\"),\n",
    "(6, \"Ranjeet\", \"Python Developer\", \"Gurugram\"),\n",
    "(7, \"Priyanka\", \"Full Stack Developer\", \"Bangalore\")] \n",
    "schema = [\"Id\", \"Name\", \"Job Profile\", \"City\"]"
   ]
  },
  {
   "cell_type": "code",
   "execution_count": 0,
   "metadata": {
    "application/vnd.databricks.v1+cell": {
     "cellMetadata": {
      "byteLimit": 2048000,
      "rowLimit": 10000
     },
     "inputWidgets": {},
     "nuid": "38cd5b51-7801-4f01-89a0-1047fdebf325",
     "showTitle": false,
     "title": ""
    }
   },
   "outputs": [
    {
     "output_type": "display_data",
     "data": {
      "text/html": [
       "<style scoped>\n",
       "  .table-result-container {\n",
       "    max-height: 300px;\n",
       "    overflow: auto;\n",
       "  }\n",
       "  table, th, td {\n",
       "    border: 1px solid black;\n",
       "    border-collapse: collapse;\n",
       "  }\n",
       "  th, td {\n",
       "    padding: 5px;\n",
       "  }\n",
       "  th {\n",
       "    text-align: left;\n",
       "  }\n",
       "</style><div class='table-result-container'><table class='table-result'><thead style='background-color: white'><tr><th>Id</th><th>Name</th><th>Job Profile</th><th>City</th></tr></thead><tbody><tr><td>1</td><td>Shivansh</td><td>Data Scientist</td><td>Noida</td></tr><tr><td>2</td><td>Rishabh</td><td>Software Developer</td><td>Bangalore</td></tr><tr><td>3</td><td>Swati</td><td>Data Analyst</td><td>Hyderabad</td></tr><tr><td>4</td><td>Amar</td><td>Data Analyst</td><td>Noida</td></tr><tr><td>5</td><td>Arpit</td><td>Android Developer</td><td>Pune</td></tr><tr><td>6</td><td>Ranjeet</td><td>Python Developer</td><td>Gurugram</td></tr><tr><td>7</td><td>Priyanka</td><td>Full Stack Developer</td><td>Bangalore</td></tr></tbody></table></div>"
      ]
     },
     "metadata": {
      "application/vnd.databricks.v1+output": {
       "addedWidgets": {},
       "aggData": [],
       "aggError": "",
       "aggOverflow": false,
       "aggSchema": [],
       "aggSeriesLimitReached": false,
       "aggType": "",
       "arguments": {},
       "columnCustomDisplayInfos": {},
       "data": [
        [
         1,
         "Shivansh",
         "Data Scientist",
         "Noida"
        ],
        [
         2,
         "Rishabh",
         "Software Developer",
         "Bangalore"
        ],
        [
         3,
         "Swati",
         "Data Analyst",
         "Hyderabad"
        ],
        [
         4,
         "Amar",
         "Data Analyst",
         "Noida"
        ],
        [
         5,
         "Arpit",
         "Android Developer",
         "Pune"
        ],
        [
         6,
         "Ranjeet",
         "Python Developer",
         "Gurugram"
        ],
        [
         7,
         "Priyanka",
         "Full Stack Developer",
         "Bangalore"
        ]
       ],
       "datasetInfos": [],
       "dbfsResultPath": null,
       "isJsonSchema": true,
       "metadata": {},
       "overflow": false,
       "plotOptions": {
        "customPlotOptions": {},
        "displayType": "table",
        "pivotAggregation": null,
        "pivotColumns": null,
        "xColumns": null,
        "yColumns": null
       },
       "removedWidgets": [],
       "schema": [
        {
         "metadata": "{}",
         "name": "Id",
         "type": "\"long\""
        },
        {
         "metadata": "{}",
         "name": "Name",
         "type": "\"string\""
        },
        {
         "metadata": "{}",
         "name": "Job Profile",
         "type": "\"string\""
        },
        {
         "metadata": "{}",
         "name": "City",
         "type": "\"string\""
        }
       ],
       "type": "table"
      }
     },
     "output_type": "display_data"
    }
   ],
   "source": [
    "df=spark.createDataFrame(data=input_data,schema=schema)\n",
    "df.display()"
   ]
  },
  {
   "cell_type": "code",
   "execution_count": 0,
   "metadata": {
    "application/vnd.databricks.v1+cell": {
     "cellMetadata": {
      "byteLimit": 2048000,
      "rowLimit": 10000
     },
     "inputWidgets": {},
     "nuid": "c8e1f252-014f-4958-bd62-161571237c75",
     "showTitle": false,
     "title": ""
    }
   },
   "outputs": [
    {
     "output_type": "stream",
     "name": "stdout",
     "output_type": "stream",
     "text": [
      "1 Shivansh   Noida\n2 Rishabh   Bangalore\n3 Swati   Hyderabad\n4 Amar   Noida\n5 Arpit   Pune\n6 Ranjeet   Gurugram\n7 Priyanka   Bangalore\n"
     ]
    }
   ],
   "source": [
    "#Method 1: Using collect()\n",
    "\n",
    "# retrieving all the elements\n",
    "# of the dataframe using collect()\n",
    "# Storing in the variable\n",
    "data_collect = df.collect()\n",
    "\n",
    "# looping thorough each row of the dataframe\n",
    "for row in data_collect:\n",
    "\t# while looping through each\n",
    "\t# row printing the data of Id, Name and City\n",
    "\tprint(row[\"Id\"],row[\"Name\"],\" \",row[\"City\"])\n"
   ]
  },
  {
   "cell_type": "code",
   "execution_count": 0,
   "metadata": {
    "application/vnd.databricks.v1+cell": {
     "cellMetadata": {
      "byteLimit": 2048000,
      "rowLimit": 10000
     },
     "inputWidgets": {},
     "nuid": "3ac0c803-4cd1-4c78-8d32-54d44efaf97b",
     "showTitle": false,
     "title": ""
    }
   },
   "outputs": [
    {
     "output_type": "stream",
     "name": "stdout",
     "output_type": "stream",
     "text": [
      "1   Data Scientist   Noida\n2   Software Developer   Bangalore\n3   Data Analyst   Hyderabad\n4   Data Analyst   Noida\n5   Android Developer   Pune\n6   Python Developer   Gurugram\n7   Full Stack Developer   Bangalore\n"
     ]
    }
   ],
   "source": [
    "#Method 2: Using toLocalIterator()\n",
    "data_itr = df.rdd.toLocalIterator()\n",
    "\n",
    "# looping thorough each row of the dataframe\n",
    "for row in data_itr:\n",
    "\n",
    "\t# while looping through each row printing\n",
    "\t# the data of Id, Job Profile and City\n",
    "\tprint(row[\"Id\"],\" \",row[\"Job Profile\"],\" \",row[\"City\"])\n"
   ]
  },
  {
   "cell_type": "code",
   "execution_count": 0,
   "metadata": {
    "application/vnd.databricks.v1+cell": {
     "cellMetadata": {
      "byteLimit": 2048000,
      "rowLimit": 10000
     },
     "inputWidgets": {},
     "nuid": "109d3292-b33e-496d-a01c-19e0b704b75f",
     "showTitle": false,
     "title": ""
    }
   },
   "outputs": [
    {
     "output_type": "stream",
     "name": "stdout",
     "output_type": "stream",
     "text": [
      "Shivansh Noida\nRishabh Bangalore\nSwati Hyderabad\nAmar Noida\nArpit Pune\nRanjeet Gurugram\nPriyanka Bangalore\n"
     ]
    }
   ],
   "source": [
    "#Using select()\n",
    "# getting each row of dataframe containing \n",
    "# only selected columns Selected columns are \n",
    "# 'Name' and 'Salary' getting the list of rows\n",
    "# with selected column data using collect()\n",
    "rows_looped = df.select(\"Name\", \"City\").collect() \n",
    "    # printing the data of each row\n",
    "for rows in rows_looped:\n",
    "       \n",
    "        # here index 0 and 1 refers to the data\n",
    "        # of 'Name' column and 'City' column\n",
    "        print(rows[0], rows[1])"
   ]
  }
 ],
 "metadata": {
  "application/vnd.databricks.v1+notebook": {
   "dashboards": [],
   "language": "python",
   "notebookMetadata": {
    "pythonIndentUnit": 4
   },
   "notebookName": "How to loop through each row of dataFrame",
   "widgets": {}
  }
 },
 "nbformat": 4,
 "nbformat_minor": 0
}
